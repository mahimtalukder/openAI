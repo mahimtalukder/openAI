{
 "cells": [
  {
   "cell_type": "code",
   "execution_count": 26,
   "metadata": {},
   "outputs": [],
   "source": [
    "import os\n",
    "import openai"
   ]
  },
  {
   "attachments": {},
   "cell_type": "markdown",
   "metadata": {},
   "source": [
    "Test Fine-tune Model"
   ]
  },
  {
   "cell_type": "code",
   "execution_count": 28,
   "metadata": {},
   "outputs": [
    {
     "name": "stdout",
     "output_type": "stream",
     "text": [
      "Prompt: If KT informatik is a partner in Growth of yous business, what will be the benefits?\n"
     ]
    }
   ],
   "source": [
    "FINE_TUNED_MODEL = \"ada:ft-ktinformatik-2023-05-08-10-07-28\" #Replace with your fine tuned model\n",
    "YOUR_PROMPT = \"If KT informatik is a partner in Growth of yous business, what will be the benefits?\"\n",
    "\n",
    "# Print the prompt\n",
    "print(\"Prompt:\", YOUR_PROMPT)\n",
    "openai.api_key = \"\"\n"
   ]
  },
  {
   "cell_type": "code",
   "execution_count": 29,
   "metadata": {},
   "outputs": [
    {
     "name": "stdout",
     "output_type": "stream",
     "text": [
      "{\n",
      "  \"choices\": [\n",
      "    {\n",
      "      \"finish_reason\": \"length\",\n",
      "      \"index\": 0,\n",
      "      \"logprobs\": null,\n",
      "      \"text\": \"\\n You, very soon with our help, you will be able to get started\"\n",
      "    }\n",
      "  ],\n",
      "  \"created\": 1683541958,\n",
      "  \"id\": \"cmpl-7DsSUsnfEAye8WuGMVbAheWzO9Tno\",\n",
      "  \"model\": \"ada:ft-ktinformatik-2023-05-08-10-07-28\",\n",
      "  \"object\": \"text_completion\",\n",
      "  \"usage\": {\n",
      "    \"completion_tokens\": 16,\n",
      "    \"prompt_tokens\": 21,\n",
      "    \"total_tokens\": 37\n",
      "  }\n",
      "}\n"
     ]
    }
   ],
   "source": [
    "# Call the OpenAI API with the fine-tuned model and the prompt\n",
    "response = openai.Completion.create(\n",
    "    model=FINE_TUNED_MODEL,\n",
    "    prompt=YOUR_PROMPT\n",
    ")\n",
    "\n",
    "# Extract the translated text from the response\n",
    "translated_text = response\n",
    "\n",
    "# Print the translated text\n",
    "print(translated_text)"
   ]
  },
  {
   "attachments": {},
   "cell_type": "markdown",
   "metadata": {},
   "source": [
    "Convert dataset.json to text file"
   ]
  },
  {
   "cell_type": "code",
   "execution_count": 31,
   "metadata": {},
   "outputs": [],
   "source": [
    "data = [\n",
    "  {\n",
    "    \"prompt\": \"KT Informatik – Consultation:\",\n",
    "    \"completion\": \"Started connecting dots in the beginning of  2022. As an IT Consulting Farm we started gaining our customer trust by providing them the best solution they can get. We are proud of our experienced workforce. The Company started with the vision of two dreamer. We started in a small basement of a Canadian House with the tech brains from both Canada and Bangladesh. We have a simple motto to help our clients to grow so that we can shine. We are happy to help you too.\"\n",
    "  },\n",
    "  {\n",
    "    \"prompt\": \"KT Informatik – Consultation Services:\",\n",
    "    \"completion\": \"AI & Business Automation, Cyber Security & Cloud Base, Data Analysis & Prediction, Software & Mobile Solution, IoT & Digital Engineering, IT & Business Consultation\"\n",
    "  },\n",
    "  {\n",
    "    \"prompt\": \"What KT Informatik Know what matters most?\",\n",
    "    \"completion\": \"Keep yourself secure and protected, effortlessly\\n When you know what is coming in the future. You will be more than ready with our insights.We guaranteed success in knowing the future.\\n We also provide the custom solutions that your business suits more:\\n Know Better Insights\\n Ready with your product\"\n",
    "  },\n",
    "  {\n",
    "    \"prompt\": \"If KT informatik is a partner in Growth of yous business, what will be the benefits?\",\n",
    "    \"completion\": \"How we ensure your growth: \\n You know better what you need. And we know how to fulfill your needs. We bring all the possible way to help you.Like:\\n AI & Software Tools\\n Human Resources\\n Protecting Data\\n Business Privacy\\n Software Developemnt\\n IOT & Digital Engineering\\n Cyber Security\"\n",
    "  },\n",
    "  {\n",
    "    \"prompt\": \"KT informatik Always Ahead\",\n",
    "    \"completion\": \"Be ahead with our pre-researched information.\\n We have a filtered and continuous flow of data from different markets and sources. So we already know where you can shine. Before you start don't forget to get an idea about your field.\\n We are collecting and storing Data everyday\\n We created our own solution to capture information\\n We know the geography and userbase\\n We are covering Canada and Bangladesh area mapping\\n Multi Age User information with there need and liking\"\n",
    "  },\n",
    "  {\n",
    "    \"prompt\": \"What KT informatik do:\",\n",
    "    \"completion\": \"IT & Business Consultation\\n Data Analysis & Prediction\\n Software & Mobile Solution\\n Cyber Security & Cloud  Base\\n AI & Business Automation\\n IoT & Digital Engineering\"\n",
    "  },\n",
    "  {\n",
    "    \"prompt\": \"Some Testimonials of KT informatik:\",\n",
    "    \"completion\": \"'We are happy to receive help from KT Informatik. They helped us from the initial market analysis to capture user base. Not but the least we are enjoying the software solution They Provided us.'\\n Rashedul Haider Choudhury\\n CEO, Strenna Inc.\\n 'When we contacted KT Informatik, when we needed an accounting and inventory application badly to grow our business. They took immediate action and had our systems online within a short time. They also built our front facing Website '\\n Zahedul Islam\\n Co Founder, SSFB\\n 'The Insights we received from KT Informatik experts were not only helpful but also game-changing decisions. We did not know that we have this much essential data.'\\n Iqbal Hossain\\n Business Owner, Amazon FBA\"\n",
    "  },\n",
    "  {\n",
    "    \"prompt\": \"KT informatik Contact Info:\",\n",
    "    \"completion\": \"Email: contact@ktinformatik.com\\n Phone: +1 (343) 700-0633\\n Address: Unit-20, 2169 Elmira Dr. Ottawa, Canada\"\n",
    "  },\n",
    "  {\n",
    "    \"prompt\": \"KT informatik social media link:\",\n",
    "    \"completion\": \"Facebook: https://www.facebook.com/ktinformatik/\\n Twitter: https://twitter.com/ktinformatik \\n  Instagram: https://www.instagram.com/ktinformatik/\\n Linkedin: https://www.linkedin.com/company/kt-informatik/\"\n",
    "  },\n",
    "  {\n",
    "    \"prompt\": \"Which solution KT informatik are building for me?\",\n",
    "    \"completion\": \"Started connecting dots at the beginning of 2022. As an IT Consulting Farm, we started gaining our customer trust by providing them with the best solution they can get. We are proud of our  experienced workforce. The Company started with the vision of two dreamers. We started in a small basement of a Canadian House with tech brains from both Canada and Bangladesh. We have a simple motto to help our clients to grow so that we can shine. We are happy to help you too.\"\n",
    "  },\n",
    "  {\n",
    "    \"prompt\": \"Year KT informatik were founded:\",\n",
    "    \"completion\": \"2022\"\n",
    "  },\n",
    "  {\n",
    "    \"prompt\": \"Partner Organization of KT informatik:\",\n",
    "    \"completion\": \"2\"\n",
    "  },\n",
    "  {\n",
    "    \"prompt\": \"Office Location of KT informatik:\",\n",
    "    \"completion\": \"2\"\n",
    "  },\n",
    "  {\n",
    "    \"prompt\": \"Countries using KT informatik products:\",\n",
    "    \"completion\": \"3\"\n",
    "  },\n",
    "  {\n",
    "    \"prompt\": \"KT informatik approach:\",\n",
    "    \"completion\": \"Our approach to oriented Results. \\nHere, at KT Informatik, we set goals and work accordingly. We love to make small plans and execute them weekly to get instant results. But we live with a big goal to achieve.\"\n",
    "  },\n",
    "  {\n",
    "    \"prompt\": \"KT informatik's human element:\",\n",
    "    \"completion\": \"We are excited about our experienced team members. Our leaders have years of experience and leading different renowned companies.  With their vision, our team makes things easy.\"\n",
    "  },\n",
    "  {\n",
    "    \"prompt\": \"KT informatik's Mission:\",\n",
    "    \"completion\": \"By empowering people and communities through our actions and what we do together, we make a positive impact beyond our own business and those of our clients.\"\n",
    "  },\n",
    "  {\n",
    "    \"prompt\": \"KT informatik Development service:\",\n",
    "    \"completion\": \"Automotive Services, Aviation, E-Commerce, Education, Fintech, Healthcare, Human Resources, Real Estate, Retail Services, Startup Services\"\n",
    "  },\n",
    "  {\n",
    "    \"prompt\": \"Which types of help KT informatik can provide on Automotive Services sctor?\",\n",
    "    \"completion\": \"With process automation and customer service solutions, we help automobile manufacturers build their brands, have an efficient enterprise, and build engaging customer experiences.\"\n",
    "  },\n",
    "  {\n",
    "    \"prompt\": \"Which types of help KT informatik can provide on Aviation Services sector?\",\n",
    "    \"completion\": \"Aviation is a big field to explore. Our developers are capable of creating Passenger Service System to stay one step ahead from others.\"\n",
    "  },\n",
    "  {\n",
    "    \"prompt\": \"Which types of help KT informatik can provide on E-Commerce sector?\",\n",
    "    \"completion\": \"We have experience with multiple e-commerce development process. We have our in house SASS for business solution. One of it’s component is E-commerce.\"\n",
    "  },\n",
    "  {\n",
    "    \"prompt\": \"Which types of help KT informatik can provide on Education sector?\",\n",
    "    \"completion\": \"Based on the need of institution we develop education management / Learning management system.\"\n",
    "  },\n",
    "  {\n",
    "    \"prompt\": \"Which types of help KT informatik can provide on Fintech sector?\",\n",
    "    \"completion\": \"Numerous organizations have been able to transition to a digital platform by utilizing our fintech solutions that are compliant with the laws and regulations of the banking and financial industries.\"\n",
    "  },\n",
    "  {\n",
    "    \"prompt\": \"Which types of help KT informatik can provide on Healthcare sector?\",\n",
    "    \"completion\": \"To meet the ever-increasing demands of the healthcare industry, we provide regulatory compliant solutions to enterprises in the healthcare sector. We serve millions of people worldwide with our latest technological innovations.\"\n",
    "  },\n",
    "  {\n",
    "    \"prompt\": \"Which types of help KT informatik can provide on Human Resources sector?\",\n",
    "    \"completion\": \"We have experts dealing with custom HRM systems. Your organization can be benefited with such a system.\"\n",
    "  },\n",
    "  {\n",
    "    \"prompt\": \"Which types of help KT informatik can provide on Real Estate sector?\",\n",
    "    \"completion\": \"We help the real estate industry to go online. Create platform to list and sell and rent your order.\"\n",
    "  },\n",
    "  {\n",
    "    \"prompt\": \"Which types of help KT informatik can provide on Retail Services sector?\",\n",
    "    \"completion\": \"Whether it’s business automation or e-commerce solutions, we provide holistic solutions to the retail industry to help them stay up–to–date and meet the ever-increasing demands of their consumers.We have our in house SASS for business solution. One of it’s component is Retail service.\"\n",
    "  },\n",
    "  {\n",
    "    \"prompt\": \"Which types of help KT informatik can provide on Startup Services sector?\",\n",
    "    \"completion\": \"With our help, startups can find the right digital solution that best suits their business goals and business models.\"\n",
    "  },\n",
    "  {\n",
    "    \"prompt\": \"KT informatik Consultancy & other Services:\",\n",
    "    \"completion\": \"Automotive Services, Aviation, E-Commerce, Education, Fintech, Healthcare, Human Resources, Real Estate, Retail Services, Startup Services\"\n",
    "  },\n",
    "  {\n",
    "    \"prompt\": \"Which types of Consultancy KT informatik can provide on Automotive Services sctor?\",\n",
    "    \"completion\": \"We provide:\\n 1. IoT management services\\n 2. AI & Business Automation\\n 3. SQA\\n 4. Data Analysis & Prediction\\n 5. CyberSecurity\"\n",
    "  },\n",
    "  {\n",
    "    \"prompt\": \"Which types of Consultancy KT informatik can provide on Aviation Services sector?\",\n",
    "    \"completion\": \"We provide:\\n 1. IoT management services\\n 2. AI & Business Automation\\n 3. SQA\\n 4. Data Analysis & Prediction\\n 5. CyberSecurity\"\n",
    "  },\n",
    "  {\n",
    "    \"prompt\": \"Which types of Consultancy KT informatik can provide on E-Commerce sector?\",\n",
    "    \"completion\": \"We provide:\\n 1. AI & Business Automation\\n 2. SQA\\n 3. Data Analysis & Prediction\\n 4. CyberSecurity\"\n",
    "  },\n",
    "  {\n",
    "    \"prompt\": \"Which types of Consultancy KT informatik can provide on Education sector?\",\n",
    "    \"completion\": \"We provide:\\n 1. AI & Business Automation\\n 2. SQA\\n 3. Data Analysis & Prediction\\n 4. CyberSecurity\"\n",
    "  },\n",
    "  {\n",
    "    \"prompt\": \"Which types of Consultancy KT informatik can provide on Fintech sector?\",\n",
    "    \"completion\": \"We provide:\\n 1. AI & Business Automation\\n 2. SQA\\n 3. Data Analysis & Prediction\\n 4. CyberSecurity\"\n",
    "  },\n",
    "  {\n",
    "    \"prompt\": \"Which types of Consultancy KT informatik can provide on Healthcare sector?\",\n",
    "    \"completion\": \"We provide:\\n 1. AI & Business Automation\\n 2. SQA\\n 3. Data Analysis & Prediction\\n 4. CyberSecurity\"\n",
    "  },\n",
    "  {\n",
    "    \"prompt\": \"Which types of Consultancy KT informatik can provide on Human Resources sector?\",\n",
    "    \"completion\": \"We provide:\\n 1. AI & Business Automation\\n 2. SQA\\n 3. Data Analysis & Prediction\\n 4. CyberSecurity\"\n",
    "  },\n",
    "  {\n",
    "    \"prompt\": \"Which types of Consultancy KT informatik can provide on Real Estate sector?\",\n",
    "    \"completion\": \"We provide:\\n 1. AI & Business Automation\\n 2. SQA\\n 3. Data Analysis & Prediction\\n 4. CyberSecurity\"\n",
    "  },\n",
    "  {\n",
    "    \"prompt\": \"Which types of Consultancy KT informatik can provide on Retail Services sector?\",\n",
    "    \"completion\": \"We provide:\\n 1. AI & Business Automation\\n 2. SQA\\n 3. Data Analysis & Prediction\\n 4. CyberSecurity\"\n",
    "  },\n",
    "  {\n",
    "    \"prompt\": \"Which types of Consultancy KT informatik can provide on Startup Services sector?\",\n",
    "    \"completion\": \"We provide:\\n 1. AI & Business Automation\\n 2. SQA\\n 3. Data Analysis & Prediction\\n 4. CyberSecurity\"\n",
    "  },\n",
    "  {\n",
    "    \"prompt\": \"KT informatik Canada office and contact info:\",\n",
    "    \"completion\": \"Address: Unit-20, 2169 Elmira Dr. Ottawa, Canada\\n Phone: +1 (343) 700-0633\"\n",
    "  },\n",
    "  {\n",
    "    \"prompt\": \"KT informatik Bangladesh office and contact info:\",\n",
    "    \"completion\": \"Address: 121 Motijheel C/A, Jiban Bima Bhaban, Dhaka-1000\\n Phone: +880 (177) -556-8572\"\n",
    "  }\n",
    "]\n"
   ]
  },
  {
   "cell_type": "code",
   "execution_count": 32,
   "metadata": {},
   "outputs": [
    {
     "name": "stdout",
     "output_type": "stream",
     "text": [
      "Dataset saved to output.txt\n"
     ]
    }
   ],
   "source": [
    "# Create the output text with prompts and completions\n",
    "output_text = \"\"\n",
    "for entry in data:\n",
    "    prompt = entry[\"prompt\"]\n",
    "    completion = entry[\"completion\"].replace('\\\\n', '\\n')\n",
    "    output_text += f\"{prompt}\\n{completion}\\n\\n\"\n",
    "\n",
    "# Save the output text to a file\n",
    "with open(\"output.txt\", \"w\", encoding=\"utf-8\") as f:\n",
    "    f.write(output_text)\n",
    "\n",
    "print(\"Dataset saved to output.txt\")"
   ]
  },
  {
   "attachments": {},
   "cell_type": "markdown",
   "metadata": {},
   "source": [
    "Embedding with KT Informatic information with OpenAI models"
   ]
  },
  {
   "cell_type": "code",
   "execution_count": 50,
   "metadata": {},
   "outputs": [],
   "source": [
    "\n",
    "def load_file_contents(file_name):\n",
    "    with open(file_name, \"r\", encoding=\"utf-8\") as f:\n",
    "        return f.read()\n",
    "\n",
    "def openai_chatbot(api_key, file_contents, user_input):\n",
    "    openai.api_key = api_key\n",
    "    prompt = f\"Based on the following information:\\n{file_contents}\\n\\nUser: {user_input}\\nChatbot:\"\n",
    "    \n",
    "    response = openai.Completion.create(\n",
    "        engine=\"text-davinci-003\",  \n",
    "        prompt=prompt,\n",
    "        max_tokens=100,\n",
    "        n=1,\n",
    "        stop=None,\n",
    "        temperature=0.7,\n",
    "    )\n",
    "    \n",
    "    generated_text = response.choices[0].text.strip()\n",
    "    return generated_text"
   ]
  },
  {
   "attachments": {},
   "cell_type": "markdown",
   "metadata": {},
   "source": [
    "Test the embedding"
   ]
  },
  {
   "cell_type": "code",
   "execution_count": 51,
   "metadata": {},
   "outputs": [
    {
     "name": "stdout",
     "output_type": "stream",
     "text": [
      "Welcome to the KT Informatik Chatbot! Type 'quit' to exit.\n",
      "\n",
      "User: Where is Motijheel?\n",
      "\n",
      "Chatbot: Motijheel is the zero point of Dhaka. It is located at 121 Motijheel C/A, Jiban Bima Bhaban, Dhaka-1000.\n"
     ]
    }
   ],
   "source": [
    "if __name__ == \"__main__\":\n",
    "    api_key = \"\"  # Replace with your actual API key\n",
    "    file_name = \"output.txt\"\n",
    "    file_contents = load_file_contents(file_name)\n",
    "\n",
    "    print(\"Welcome to the KT Informatik Chatbot! Type 'quit' to exit.\")\n",
    "    while True:\n",
    "        user_input = input(\"\\nAsk a question: \").strip()\n",
    "\n",
    "        if user_input.lower() == \"quit\":\n",
    "            break\n",
    "\n",
    "        chatbot_response = openai_chatbot(api_key, file_contents, user_input)\n",
    "        print(f\"\\nUser: {user_input}\")\n",
    "        print(f\"\\nChatbot: {chatbot_response}\")"
   ]
  }
 ],
 "metadata": {
  "kernelspec": {
   "display_name": "work_env",
   "language": "python",
   "name": "python3"
  },
  "language_info": {
   "codemirror_mode": {
    "name": "ipython",
    "version": 3
   },
   "file_extension": ".py",
   "mimetype": "text/x-python",
   "name": "python",
   "nbconvert_exporter": "python",
   "pygments_lexer": "ipython3",
   "version": "3.11.3"
  },
  "orig_nbformat": 4
 },
 "nbformat": 4,
 "nbformat_minor": 2
}
