{
 "cells": [
  {
   "cell_type": "code",
   "execution_count": 11,
   "metadata": {},
   "outputs": [
    {
     "name": "stdout",
     "output_type": "stream",
     "text": [
      "Cleaned text saved to contact.txt\n"
     ]
    }
   ],
   "source": [
    "import requests\n",
    "from bs4 import BeautifulSoup\n",
    "\n",
    "req = requests.get('https://ktinformatik.com/contact/')\n",
    "\n",
    "soup = BeautifulSoup(req.text, 'html.parser')\n",
    "\n",
    "# for a in soup.find_all('a', href=True):\n",
    "#     print(a['href'])\n",
    "text = soup.get_text()\n",
    "cleaned_text = '\\n'.join(line.strip() for line in text.split('\\n') if line.strip())\n",
    "# Save cleaned_text to a file\n",
    "file_name = 'contact.txt'\n",
    "with open(file_name, 'w', encoding='utf-8') as file:\n",
    "    file.write(cleaned_text)\n",
    "\n",
    "print(f\"Cleaned text saved to {file_name}\")"
   ]
  }
 ],
 "metadata": {
  "kernelspec": {
   "display_name": "work_env",
   "language": "python",
   "name": "python3"
  },
  "language_info": {
   "codemirror_mode": {
    "name": "ipython",
    "version": 3
   },
   "file_extension": ".py",
   "mimetype": "text/x-python",
   "name": "python",
   "nbconvert_exporter": "python",
   "pygments_lexer": "ipython3",
   "version": "3.11.3"
  },
  "orig_nbformat": 4
 },
 "nbformat": 4,
 "nbformat_minor": 2
}
